{
 "cells": [
  {
   "cell_type": "markdown",
   "id": "9bcb9643-6c31-4622-acfc-c870cbad4537",
   "metadata": {},
   "source": [
    "### Two sum\n",
    "Дан отсортированный по возрастанию массив целых чисел и некоторое число target.\n",
    "\n",
    "Необходимо найти два числа в массиве, которые в сумме дают заданное значение target, и вернуть их индексы."
   ]
  },
  {
   "cell_type": "code",
   "execution_count": 12,
   "id": "1f09adbb-1c9a-4df8-932b-ece3977750df",
   "metadata": {},
   "outputs": [],
   "source": [
    "def two_sum(numbers, target):\n",
    "    # на входе - список numbers и скаляр target, на выходе - кортеж из 2 чисел, если поиск успешен, либо пустой кортеж, если не найдено\n",
    "    index_left = 0\n",
    "    index_right = len(numbers) - 1\n",
    "    while index_left < index_right:\n",
    "        cur_sum = numbers[index_left] + numbers[index_right]\n",
    "        if cur_sum == target:\n",
    "            return (index_left, index_right)\n",
    "        if cur_sum > target:\n",
    "            index_right -= 1\n",
    "        else:\n",
    "            index_left += 1\n",
    "    return ()"
   ]
  },
  {
   "cell_type": "code",
   "execution_count": 15,
   "id": "f11055b0-8665-42bc-a032-e2155a64d5a7",
   "metadata": {},
   "outputs": [
    {
     "data": {
      "text/plain": [
       "(3, 5)"
      ]
     },
     "execution_count": 15,
     "metadata": {},
     "output_type": "execute_result"
    }
   ],
   "source": [
    "two_sum([1, 1, 4, 10, 11, 11, 12], 21)"
   ]
  },
  {
   "cell_type": "code",
   "execution_count": 16,
   "id": "9d580bcc-1ba7-493d-9718-b749a60a508d",
   "metadata": {},
   "outputs": [
    {
     "data": {
      "text/plain": [
       "()"
      ]
     },
     "execution_count": 16,
     "metadata": {},
     "output_type": "execute_result"
    }
   ],
   "source": [
    "two_sum([1, 1, 4, 10, 11, 11, 12], 10)"
   ]
  },
  {
   "cell_type": "markdown",
   "id": "02dcf79d-c007-46bf-aa16-c2e8f57a67c7",
   "metadata": {},
   "source": [
    "### Развернуть массив\r\n",
    "Дан массив целых чисел. Необходимо развернуть его.\r\n",
    "\r\n",
    "Сделать это надо за линейное время без дополнительных аллокаций памяти"
   ]
  },
  {
   "cell_type": "code",
   "execution_count": 17,
   "id": "3f4b6d9d-74a8-4980-9110-7f80006602af",
   "metadata": {},
   "outputs": [],
   "source": [
    "def reverse_array(numbers):\n",
    "    # на входе - list, на выходе - тоже list\n",
    "    index_left = 0\n",
    "    index_right = len(numbers) - 1\n",
    "    while index_left < index_right:\n",
    "        numbers[index_left], numbers[index_right] = numbers[index_right], numbers[index_left]\n",
    "        index_left += 1\n",
    "        index_right -= 1\n",
    "    return numbers"
   ]
  },
  {
   "cell_type": "code",
   "execution_count": 18,
   "id": "6edeec93-af7f-4ca2-936b-a7d7a27e0e21",
   "metadata": {},
   "outputs": [
    {
     "data": {
      "text/plain": [
       "[12, 11, 11, 10, 4, 1, 1]"
      ]
     },
     "execution_count": 18,
     "metadata": {},
     "output_type": "execute_result"
    }
   ],
   "source": [
    "reverse_array([1, 1, 4, 10, 11, 11, 12])"
   ]
  },
  {
   "cell_type": "code",
   "execution_count": 19,
   "id": "bdc436f7-ca5a-4132-80b8-64a7f54bfcc0",
   "metadata": {},
   "outputs": [
    {
     "data": {
      "text/plain": [
       "[]"
      ]
     },
     "execution_count": 19,
     "metadata": {},
     "output_type": "execute_result"
    }
   ],
   "source": [
    "reverse_array([])"
   ]
  },
  {
   "cell_type": "code",
   "execution_count": 20,
   "id": "681f2bdd-3236-48ba-8fd0-1e86dfd97c90",
   "metadata": {},
   "outputs": [
    {
     "data": {
      "text/plain": [
       "[-1]"
      ]
     },
     "execution_count": 20,
     "metadata": {},
     "output_type": "execute_result"
    }
   ],
   "source": [
    "reverse_array([-1])"
   ]
  },
  {
   "cell_type": "code",
   "execution_count": 21,
   "id": "2caf0c81-238a-42ab-8a95-9f3bbb771d33",
   "metadata": {},
   "outputs": [
    {
     "data": {
      "text/plain": [
       "[12, 15, 11, 10, 14, 31, 1]"
      ]
     },
     "execution_count": 21,
     "metadata": {},
     "output_type": "execute_result"
    }
   ],
   "source": [
    "reverse_array([1, 31, 14, 10, 11, 15, 12])"
   ]
  },
  {
   "cell_type": "markdown",
   "id": "a2a32c4e-8cfe-405e-b13a-dbbacb387cbf",
   "metadata": {},
   "source": [
    "### Развернуть часть массива\r\n",
    "Дан массив целых чисел.\r\n",
    "\r\n",
    "Необходимо повернуть (сдвинуть) справа налево часть массива, которая указана вторым параметром.\r\n",
    "\r\n",
    "Сделать это надо за линейное время без дополнительных аллокаций\r\n",
    "\r\n",
    "Исходный массив: 1, 2, 3, 4, 5, 6, 7\r\n",
    "\r\n",
    "k = 3\r\n",
    "\r\n",
    "Результат: 5, 6, 7, 1, 2, 3, 4"
   ]
  },
  {
   "cell_type": "markdown",
   "id": "703f4470-557f-481b-b4c9-ee25dcec01d8",
   "metadata": {},
   "source": [
    "Вариант 1. Передаю массив по кускам в ранее созданную функцию, результат записываю в существующий массив"
   ]
  },
  {
   "cell_type": "code",
   "execution_count": 35,
   "id": "fed06c9c-5765-4dca-97ef-f59822a83dbf",
   "metadata": {},
   "outputs": [],
   "source": [
    "def reverse_array(numbers):\n",
    "    # на входе - list, на выходе - тоже list\n",
    "    index_left = 0\n",
    "    index_right = len(numbers) - 1\n",
    "    while index_left < index_right:\n",
    "        numbers[index_left], numbers[index_right] = numbers[index_right], numbers[index_left]\n",
    "        index_left += 1\n",
    "        index_right -= 1\n",
    "    return numbers\n",
    "def change_array_parts(numbers, right_part_len=1):\n",
    "    # на входе список numbers и скаляр, на выходе список\n",
    "    # для случая right_part_len > len(numbers) берем остаток от деления right_part_len на len(numbers)\n",
    "    total_length = len(numbers)\n",
    "    if total_length == 0:\n",
    "        return []\n",
    "    right_part_len %= total_length\n",
    "    border = total_length - right_part_len\n",
    "    numbers[: border] = reverse_array(numbers[: border])\n",
    "    numbers[border :] = reverse_array(numbers[border :])\n",
    "    numbers = reverse_array(numbers)\n",
    "    return numbers"
   ]
  },
  {
   "cell_type": "code",
   "execution_count": 52,
   "id": "fc0ceaf4-a799-4252-9d68-53f1a9379c6e",
   "metadata": {},
   "outputs": [
    {
     "data": {
      "text/plain": [
       "[4, 0, 0, 10, 0, 4, 0, 0, 1, 2, 0, 4, 0, 0, 4, 0]"
      ]
     },
     "execution_count": 52,
     "metadata": {},
     "output_type": "execute_result"
    }
   ],
   "source": [
    "change_array_parts([2, 0, 4, 0, 0, 4, 0, 4, 0, 0, 10, 0, 4, 0, 0, 1], 9)"
   ]
  },
  {
   "cell_type": "code",
   "execution_count": 53,
   "id": "c394a038-b46d-4a01-87dc-9f3067d5661b",
   "metadata": {},
   "outputs": [
    {
     "data": {
      "text/plain": [
       "[0, 0, 1, 2, 0, 4, 0, 0, 4, 0, 4, 0, 0, 10, 0, 4]"
      ]
     },
     "execution_count": 53,
     "metadata": {},
     "output_type": "execute_result"
    }
   ],
   "source": [
    "change_array_parts([2, 0, 4, 0, 0, 4, 0, 4, 0, 0, 10, 0, 4, 0, 0, 1], 19)"
   ]
  },
  {
   "cell_type": "markdown",
   "id": "36b68a5c-ac19-4762-b13f-ce47677a2910",
   "metadata": {},
   "source": [
    "Вариант 2 (функция работает внутри существующего в вызывающей функции массива)"
   ]
  },
  {
   "cell_type": "code",
   "execution_count": 61,
   "id": "eb511f86-28b0-4ef3-b482-46c2148cbd1b",
   "metadata": {},
   "outputs": [],
   "source": [
    "def reverse_array1(numbers, index_left=0, index_right=0):\n",
    "    # на входе - list и 2 скаляра, на выходе - list\n",
    "    while index_left < index_right:\n",
    "        numbers[index_left], numbers[index_right] = numbers[index_right], numbers[index_left]\n",
    "        index_left += 1\n",
    "        index_right -= 1\n",
    "    return numbers\n",
    "def change_array_parts(numbers, right_part_len=1):\n",
    "    # на входе список numbers и скаляр, на выходе список\n",
    "    # для случая right_part_len > len(numbers) берем остаток от деления right_part_len на len(numbers)\n",
    "    total_length = len(numbers)\n",
    "    if total_length == 0:\n",
    "        return []\n",
    "    right_part_len %= total_length\n",
    "    border = total_length - right_part_len\n",
    "    reverse_array1(numbers, 0, border - 1)\n",
    "    reverse_array1(numbers, border, total_length - 1)\n",
    "    reverse_array1(numbers, 0, total_length - 1)\n",
    "    return numbers"
   ]
  },
  {
   "cell_type": "code",
   "execution_count": 62,
   "id": "f5078fbb-a5a8-4435-9549-4f699f3a470a",
   "metadata": {},
   "outputs": [
    {
     "data": {
      "text/plain": [
       "[4, 0, 0, 10, 0, 4, 0, 0, 1, 2, 0, 4, 0, 0, 4, 0]"
      ]
     },
     "execution_count": 62,
     "metadata": {},
     "output_type": "execute_result"
    }
   ],
   "source": [
    "change_array_parts([2, 0, 4, 0, 0, 4, 0, 4, 0, 0, 10, 0, 4, 0, 0, 1], 9)"
   ]
  },
  {
   "cell_type": "code",
   "execution_count": 63,
   "id": "53bae693-a8a9-491c-9f78-50ead9767d14",
   "metadata": {},
   "outputs": [
    {
     "data": {
      "text/plain": [
       "[0, 0, 1, 2, 0, 4, 0, 0, 4, 0, 4, 0, 0, 10, 0, 4]"
      ]
     },
     "execution_count": 63,
     "metadata": {},
     "output_type": "execute_result"
    }
   ],
   "source": [
    "change_array_parts([2, 0, 4, 0, 0, 4, 0, 4, 0, 0, 10, 0, 4, 0, 0, 1], 19)"
   ]
  },
  {
   "cell_type": "code",
   "execution_count": 65,
   "id": "20a5053d-ac67-41c1-8b04-1bdc0c492b49",
   "metadata": {},
   "outputs": [
    {
     "data": {
      "text/plain": [
       "[]"
      ]
     },
     "execution_count": 65,
     "metadata": {},
     "output_type": "execute_result"
    }
   ],
   "source": [
    "change_array_parts([], 0)"
   ]
  },
  {
   "cell_type": "markdown",
   "id": "8ff0d1ee-c755-4f93-adce-8c67d716ef39",
   "metadata": {},
   "source": [
    "### Слияние двух отсортированных массивов\r\n",
    "\r\n",
    "Дано два отсортированных массива. Необходимо написать функцию которая объединит эти два массива в один отсортированный"
   ]
  },
  {
   "cell_type": "code",
   "execution_count": 80,
   "id": "98ab2ecd-7f2f-4ee1-b822-11da62e191d3",
   "metadata": {},
   "outputs": [],
   "source": [
    "def merge_arrays(arr1, arr2):\n",
    "    result = []\n",
    "    index1 = index2 = 0\n",
    "    len1 = len(arr1)\n",
    "    len2 = len(arr2)\n",
    "    while index1 < len1 and index2 < len2:\n",
    "        if arr1[index1] <= arr2[index2]:\n",
    "            result.append(arr1[index1])\n",
    "            index1 += 1\n",
    "        else:\n",
    "            result.append(arr2[index2])\n",
    "            index2 += 1\n",
    "    result += arr1[index1 :]\n",
    "    result += arr2[index2 :]\n",
    "    return result"
   ]
  },
  {
   "cell_type": "code",
   "execution_count": 81,
   "id": "cd658621-0779-421e-9687-7223505e2d13",
   "metadata": {},
   "outputs": [
    {
     "data": {
      "text/plain": [
       "[0, 2, 3, 6, 10, 15, 100]"
      ]
     },
     "execution_count": 81,
     "metadata": {},
     "output_type": "execute_result"
    }
   ],
   "source": [
    "merge_arrays([2, 6, 10, 100], [0, 3, 15])"
   ]
  },
  {
   "cell_type": "code",
   "execution_count": 82,
   "id": "73bfa4c4-9b46-4550-beab-0ead826ffcb9",
   "metadata": {},
   "outputs": [
    {
     "data": {
      "text/plain": [
       "[]"
      ]
     },
     "execution_count": 82,
     "metadata": {},
     "output_type": "execute_result"
    }
   ],
   "source": [
    "merge_arrays([], [])"
   ]
  },
  {
   "cell_type": "markdown",
   "id": "6cd0d132-d01c-4793-89e6-c1fdca31008c",
   "metadata": {},
   "source": [
    "### Слияние двух отсортированных массивов. Без дополнительных аллокаций\r\n",
    "Дано два отсортированных массива. Необходимо написать функцию которая объединит эти два массива в один отсортированный.\r\n",
    "\r\n",
    "Первый массив имеет размер, равный результирующиму массиву, значения в конце равны нулям. Мы не должны создавать третий массив."
   ]
  },
  {
   "cell_type": "code",
   "execution_count": 98,
   "id": "5aa4e2cc-ef73-4dbc-8e02-4df7b74a4d9b",
   "metadata": {},
   "outputs": [],
   "source": [
    "def merge_arrays_inplace(arr1, arr2):\n",
    "    # подразумевается, что в arr1 последние элементы в количестве len(arr2) - это нули, зарезервированные под объединение массивов\n",
    "    recording_index = len(arr1) - 1\n",
    "    reading_index = len(arr1) - len(arr2) - 1\n",
    "    index2 = len(arr2) - 1\n",
    "    while reading_index >= 0 and index2 >= 0:\n",
    "        if arr2[index2] >= arr1[reading_index]:\n",
    "            arr1[recording_index] = arr2[index2]\n",
    "            index2 -= 1\n",
    "        else:\n",
    "            arr1[recording_index] = arr1[reading_index]\n",
    "            reading_index -= 1\n",
    "        recording_index -= 1\n",
    "    #print(arr1, arr2)\n",
    "    arr1[: index2 + 1] = arr2[: index2 + 1]\n",
    "    return arr1"
   ]
  },
  {
   "cell_type": "code",
   "execution_count": 97,
   "id": "96efb96e-ab54-41a5-920b-6e6afb95c491",
   "metadata": {},
   "outputs": [],
   "source": [
    "def prepare_inputs(input1, input2):\n",
    "    # вспомогательная функция, чтобы облегчить тестирование. Дополняет 1-й массив нулями\n",
    "    input1 += ([0] * len(input2))\n",
    "    #print(input1)\n",
    "    return merge_arrays_inplace(input1, input2)"
   ]
  },
  {
   "cell_type": "code",
   "execution_count": 99,
   "id": "afbb1bc2-b1aa-42ab-b3fd-6ac71f75fa33",
   "metadata": {},
   "outputs": [
    {
     "data": {
      "text/plain": [
       "[0, 1, 2, 2, 2, 3, 5]"
      ]
     },
     "execution_count": 99,
     "metadata": {},
     "output_type": "execute_result"
    }
   ],
   "source": [
    "prepare_inputs([1, 3], [0, 2, 2, 2, 5])"
   ]
  },
  {
   "cell_type": "code",
   "execution_count": 100,
   "id": "fd83aead-fceb-413a-a2c8-04f6cbdd5f5a",
   "metadata": {},
   "outputs": [
    {
     "data": {
      "text/plain": [
       "[0, 0, 0, 5]"
      ]
     },
     "execution_count": 100,
     "metadata": {},
     "output_type": "execute_result"
    }
   ],
   "source": [
    "prepare_inputs([0, 0, 0], [5])"
   ]
  },
  {
   "cell_type": "code",
   "execution_count": 101,
   "id": "d2811865-548f-45cc-9b64-2b9e79e4ab17",
   "metadata": {},
   "outputs": [
    {
     "data": {
      "text/plain": [
       "[5]"
      ]
     },
     "execution_count": 101,
     "metadata": {},
     "output_type": "execute_result"
    }
   ],
   "source": [
    "prepare_inputs([], [5])"
   ]
  },
  {
   "cell_type": "code",
   "execution_count": 102,
   "id": "6fa49823-410a-48e0-82c0-571b85373da3",
   "metadata": {},
   "outputs": [
    {
     "data": {
      "text/plain": [
       "[0, 0, 0]"
      ]
     },
     "execution_count": 102,
     "metadata": {},
     "output_type": "execute_result"
    }
   ],
   "source": [
    "prepare_inputs([0, 0, 0], [])"
   ]
  },
  {
   "cell_type": "code",
   "execution_count": 103,
   "id": "3a449c5f-c093-4df8-98b9-9d15c934570a",
   "metadata": {},
   "outputs": [
    {
     "data": {
      "text/plain": [
       "[]"
      ]
     },
     "execution_count": 103,
     "metadata": {},
     "output_type": "execute_result"
    }
   ],
   "source": [
    "prepare_inputs([], [])"
   ]
  },
  {
   "cell_type": "markdown",
   "id": "9ae51b2d-7be1-4e24-adf7-da3ee4dead4c",
   "metadata": {},
   "source": [
    "### Сортировка массива из 0 и 1\n",
    "Дан массив, содержащий только 0 и 1. \n",
    "\n",
    "Напишите функцию, которая сортирует его так, чтобы все нули оказались в начале, а все единички - в конце. \n",
    "\n",
    "Решение должно быть in-place"
   ]
  },
  {
   "cell_type": "code",
   "execution_count": 12,
   "id": "bcb6b14f-942f-41a0-a96c-9f581f46b72f",
   "metadata": {},
   "outputs": [],
   "source": [
    "def sort01(arr):\n",
    "    index_left = 0\n",
    "    index_right = len(arr) - 1\n",
    "    while index_left < index_right:\n",
    "        if arr[index_left] == 0:\n",
    "            index_left += 1\n",
    "        elif arr[index_right] == 1:\n",
    "            index_right -= 1\n",
    "        else:\n",
    "            arr[index_left], arr[index_right] = arr[index_right], arr[index_left]\n",
    "            index_left += 1\n",
    "            index_right -= 1\n",
    "    return arr "
   ]
  },
  {
   "cell_type": "code",
   "execution_count": 13,
   "id": "0d200f47-f3e6-4142-af79-c1d49a3691f9",
   "metadata": {},
   "outputs": [
    {
     "data": {
      "text/plain": [
       "[0, 0, 0, 1, 1, 1, 1, 1]"
      ]
     },
     "execution_count": 13,
     "metadata": {},
     "output_type": "execute_result"
    }
   ],
   "source": [
    "sort01([1, 1, 0, 0, 0, 1, 1, 1])"
   ]
  },
  {
   "cell_type": "code",
   "execution_count": 18,
   "id": "17c9694e-bfa2-49e0-85b0-11a01d8ef9f3",
   "metadata": {},
   "outputs": [
    {
     "data": {
      "text/plain": [
       "[0, 0, 1]"
      ]
     },
     "execution_count": 18,
     "metadata": {},
     "output_type": "execute_result"
    }
   ],
   "source": [
    "sort01([0, 1, 0])"
   ]
  },
  {
   "cell_type": "markdown",
   "id": "a81737a8-29fe-4202-afe9-9f4c92bfe4c4",
   "metadata": {},
   "source": [
    "### Задача флага Нидерландов\r\n",
    "\r\n",
    "Дан массив состоящий из нулей, единиц и двоек.\r\n",
    "\r\n",
    "Необходимо его отсортировать за линейное время"
   ]
  },
  {
   "cell_type": "code",
   "execution_count": 19,
   "id": "d93fe97b-207e-44c0-886d-beb93f08d04e",
   "metadata": {},
   "outputs": [],
   "source": [
    "def sort012(arr):\n",
    "    index0 = index1 = 0\n",
    "    index2 = len(arr) - 1\n",
    "    while index1 < index2:\n",
    "        if arr[index1] == 0:\n",
    "            arr[index1], arr[index0] = arr[index0], arr[index1]\n",
    "            index1 += 1\n",
    "            index0 += 1\n",
    "        elif arr[index1] == 2:\n",
    "            arr[index1], arr[index2] = arr[index2], arr[index1]\n",
    "            index2 -= 1\n",
    "        else:\n",
    "            index1 += 1\n",
    "    return arr"
   ]
  },
  {
   "cell_type": "code",
   "execution_count": 20,
   "id": "24cd41ac-5657-4a39-8b02-896b3878fd7b",
   "metadata": {},
   "outputs": [
    {
     "data": {
      "text/plain": [
       "[0, 0, 1, 1, 2, 2]"
      ]
     },
     "execution_count": 20,
     "metadata": {},
     "output_type": "execute_result"
    }
   ],
   "source": [
    "sort012([0, 2, 2, 1, 0, 1])"
   ]
  },
  {
   "cell_type": "code",
   "execution_count": 22,
   "id": "798df51f-f691-4dc4-9a40-635b058d030a",
   "metadata": {},
   "outputs": [
    {
     "data": {
      "text/plain": [
       "[]"
      ]
     },
     "execution_count": 22,
     "metadata": {},
     "output_type": "execute_result"
    }
   ],
   "source": [
    "sort012([])"
   ]
  },
  {
   "cell_type": "markdown",
   "id": "4d8dc23a-bab7-496c-919e-c0d1bd7f1c29",
   "metadata": {},
   "source": [
    "### Передвинуть четные числа вперед\n",
    "Дан не отсортированный массив целых чисел. Необходимо перенести в начало массива все четные числа, сохраняя их очередность.\n",
    "\n",
    "То есть если 8 стояла после 2, то после переноса в начало, он по-прежнему должна стоять после 2\n",
    "\n",
    "Пример ввода: [3, 2, 4, 1, 11, 8, 9]\n",
    "\n",
    "Пример вывода: 2 4 8 1 11 3 9"
   ]
  },
  {
   "cell_type": "code",
   "execution_count": 31,
   "id": "77bb7c34-6e8e-4cfe-a47b-9e6cd99acf01",
   "metadata": {},
   "outputs": [],
   "source": [
    "def sort_even_odds(arr):\n",
    "    index = 0\n",
    "    for i in range(len(arr)):\n",
    "        if arr[i] % 2 == 0:\n",
    "            arr[i], arr[index] = arr[index], arr[i]\n",
    "            index += 1\n",
    "    return arr"
   ]
  },
  {
   "cell_type": "code",
   "execution_count": 32,
   "id": "dc306feb-e223-4757-b8b0-da1634653a7e",
   "metadata": {},
   "outputs": [
    {
     "data": {
      "text/plain": [
       "[2, 4, 8, 1, 11, 3, 9]"
      ]
     },
     "execution_count": 32,
     "metadata": {},
     "output_type": "execute_result"
    }
   ],
   "source": [
    "sort_even_odds([3, 2, 4, 1, 11, 8, 9])"
   ]
  },
  {
   "cell_type": "code",
   "execution_count": 33,
   "id": "2fdd3fa3-a009-48c7-9201-2e5de73b0ebf",
   "metadata": {},
   "outputs": [
    {
     "data": {
      "text/plain": [
       "[0, -16, -3]"
      ]
     },
     "execution_count": 33,
     "metadata": {},
     "output_type": "execute_result"
    }
   ],
   "source": [
    "sort_even_odds([0, -3, -16])"
   ]
  },
  {
   "cell_type": "code",
   "execution_count": 34,
   "id": "a4025171-0f05-450a-a0c6-8e0c3fc5c37e",
   "metadata": {},
   "outputs": [
    {
     "data": {
      "text/plain": [
       "[]"
      ]
     },
     "execution_count": 34,
     "metadata": {},
     "output_type": "execute_result"
    }
   ],
   "source": [
    "sort_even_odds([])"
   ]
  },
  {
   "cell_type": "markdown",
   "id": "ddbe8287-e076-496d-85c4-a7f21dd870f6",
   "metadata": {},
   "source": [
    "### Нули в конец\n",
    "Задача: есть массив с оценками, среди которых есть 0.\n",
    "\n",
    "Необходимо все оценки, равные нулю, перенести в конец массива\n",
    "\n",
    "Пример ввода: [0, 0, 1, 0, 3, 12]\n",
    "\n",
    "Пример вывода: [1, 3, 12, 0, 0, 0]\n",
    "\n",
    "Пример ввода: [0, 33, 57, 88, 60, 0, 0, 80, 99]\n",
    "\n",
    "Пример вывода: [33, 57, 88, 60, 80, 99, 0, 0, 0]\n",
    "\n",
    "Пример ввода: [0, 0, 0, 18, 16, 0, 0, 77, 99]\n",
    "\n",
    "Пример вывода: [18, 16, 77, 99, 0, 0, 0, 0, 0]"
   ]
  },
  {
   "cell_type": "code",
   "execution_count": 39,
   "id": "502baf00-abda-4750-8e0b-72d4e939f60b",
   "metadata": {},
   "outputs": [],
   "source": [
    "def move_zeros(arr):\n",
    "    index = 0\n",
    "    for i in range(len(arr)):\n",
    "        if arr[i] != 0:\n",
    "            arr[i], arr[index] = arr[index], arr[i]\n",
    "            index += 1\n",
    "    return arr"
   ]
  },
  {
   "cell_type": "code",
   "execution_count": 43,
   "id": "a438ee90-429d-4322-92ff-9081f395eba5",
   "metadata": {},
   "outputs": [
    {
     "data": {
      "text/plain": [
       "[1, 3, 12, 0, 0, 0]"
      ]
     },
     "execution_count": 43,
     "metadata": {},
     "output_type": "execute_result"
    }
   ],
   "source": [
    "move_zeros([0, 0, 1, 0, 3, 12])"
   ]
  },
  {
   "cell_type": "code",
   "execution_count": 44,
   "id": "4185256e-4483-4f2f-adaa-31a00739f2e2",
   "metadata": {},
   "outputs": [
    {
     "data": {
      "text/plain": [
       "[33, 57, 88, 60, 80, 99, 0, 0, 0]"
      ]
     },
     "execution_count": 44,
     "metadata": {},
     "output_type": "execute_result"
    }
   ],
   "source": [
    "move_zeros([0, 33, 57, 88, 60, 0, 0, 80, 99])"
   ]
  },
  {
   "cell_type": "code",
   "execution_count": 45,
   "id": "743b968a-a715-43f3-ac31-169928c44b64",
   "metadata": {},
   "outputs": [
    {
     "data": {
      "text/plain": [
       "[18, 16, 77, 99, 0, 0, 0, 0, 0]"
      ]
     },
     "execution_count": 45,
     "metadata": {},
     "output_type": "execute_result"
    }
   ],
   "source": [
    "move_zeros([0, 0, 0, 18, 16, 0, 0, 77, 99])"
   ]
  },
  {
   "cell_type": "markdown",
   "id": "be1e152f-0c49-4098-a609-556ee934c132",
   "metadata": {},
   "source": [
    "## Однонаправленный (односвязный) список"
   ]
  },
  {
   "cell_type": "code",
   "execution_count": 2,
   "id": "3f86d247-3fbb-4e86-ba53-5c9301fa1c2e",
   "metadata": {},
   "outputs": [],
   "source": [
    "class Node(object):\n",
    "    # нода (узел, элемент) списка\n",
    "    def __init__(self, data):\n",
    "        self.data = data # данные (значение элемента списка)\n",
    "        self.next = None # ссылка на следующий элемент списка\n",
    "\n",
    "class LinkedList():\n",
    "    # однонаправленный список\n",
    "    def __init__(self):\n",
    "        # при инициализации нет внешних параметров\n",
    "        self.head = None # единственное свойство - ссылка на элемент заголовка (предполагается объект типа Node)\n",
    "\n",
    "    def append_front(self, data):\n",
    "        # добавление элемента в начало списка\n",
    "        new_node = Node(data) # генерация объекта Node с присвоением значения элемента списка = data\n",
    "        if self.head is not None:\n",
    "            # если список не пустой, ссылка на текущий объект заголовка списка становится свойством next нового заголовка\n",
    "            new_node.next = self.head\n",
    "        self.head = new_node # новая ссылка на заголовок списка\n",
    "\n",
    "    def append_back(self, data):\n",
    "        # добавление элемента в конец списка\n",
    "        new_node = Node(data)\n",
    "        if self.head is None:\n",
    "            # если список пустой, то последний элемент - это и есть заголовок списка\n",
    "            self.head = new_node\n",
    "            return\n",
    "        # если список не пустой, перебираем все элементы, пока не найдем последний\n",
    "        curr_node = self.head\n",
    "        while curr_node.next is not None:\n",
    "            curr_node = curr_node.next\n",
    "        # в свойство последнего элемента next записываем ссылку на новый последний элемент\n",
    "        curr_node.next = new_node \n",
    "\n",
    "    def print_list(self):\n",
    "        # вывести на печать содержимое списка с разделителями ' -> '\n",
    "        str_to_print = ''\n",
    "        curr_node = self.head\n",
    "        while curr_node is not None:\n",
    "            str_to_print += str(curr_node.data)\n",
    "            if curr_node.next is not None:\n",
    "                str_to_print += ' -> '\n",
    "            curr_node = curr_node.next\n",
    "        print(str_to_print)\n",
    "\n",
    "    def insert(self, after, n):\n",
    "        # вставка элемента внутрь списка после 1-го элемента, значение которого равно \"after\"\n",
    "        # значение нового элемента равно n\n",
    "        # если элемент со значением \"after\" не найден, ничего не происходит\n",
    "        # по сути, это метод, т.е. ничего не возвращается через return, меняется сам список, вызвавший функцию\n",
    "        curr_node = self.head\n",
    "        while curr_node is not None:\n",
    "            if curr_node.data == after:\n",
    "                new_node = Node(n)\n",
    "                # расцепляем последовательность нод: новый элемент связываем со следующим, потом с предыдущим, получается обновленная цепочка\n",
    "                new_node.next = curr_node.next\n",
    "                curr_node.next = new_node\n",
    "                break\n",
    "            curr_node = curr_node.next\n",
    "\n",
    "    def add_element(self, new_node):\n",
    "        # функция для учебных экспериментов со списком, она позволяет извне добавить объект типа Node, причем с уже установленным свойством next\n",
    "        if self.head is None:\n",
    "            # если список пустой, то последний элемент - это и есть заголовок списка\n",
    "            self.head = new_node\n",
    "            return\n",
    "        # если список не пустой, перебираем все элементы, пока не найдем последний\n",
    "        curr_node = self.head\n",
    "        while curr_node.next is not None:\n",
    "            curr_node = curr_node.next\n",
    "        # в свойство последнего элемента next записываем ссылку на новый последний элемент\n",
    "        curr_node.next = new_node\n",
    "        \n",
    "        "
   ]
  },
  {
   "cell_type": "markdown",
   "id": "5a15d216-be96-4166-ad2d-82b72fe27cfc",
   "metadata": {},
   "source": [
    "### Проверить, является ли односвязный список циклическим"
   ]
  },
  {
   "cell_type": "code",
   "execution_count": 3,
   "id": "4a06c665-7e61-419a-b7b1-54621bcf4bc0",
   "metadata": {},
   "outputs": [],
   "source": [
    "def has_cycle(head):\n",
    "    # на вход поступает объект типа Node\n",
    "    # цепочка нод может быть зациклена (и не обязательно полностью, зацикливание может быть и в конце цепочки)\n",
    "    # если цепочка переходов по next приводит к тому, что 2 указателя, двигающиеся с разной скоростью, совпадают, имеется зацикливание\n",
    "    # на выходе - True / False\n",
    "    if head is None:\n",
    "        return False\n",
    "    if head.next is None:\n",
    "        return False\n",
    "    slow = head\n",
    "    fast = head.next\n",
    "    while slow is not fast:\n",
    "        if fast is None:\n",
    "            return False\n",
    "        if fast.next is None:\n",
    "            return False\n",
    "        slow = slow.next\n",
    "        fast = fast.next.next\n",
    "    return True # алгоритм доходит до этой команды, только если указатели встретились"
   ]
  },
  {
   "cell_type": "code",
   "execution_count": 51,
   "id": "a493f47a-5cb7-4057-9855-14433953295a",
   "metadata": {},
   "outputs": [
    {
     "name": "stdout",
     "output_type": "stream",
     "text": [
      "False\n",
      "False\n",
      "False\n",
      "False\n",
      "False\n",
      "False\n",
      "False\n",
      "False\n",
      "False\n",
      "False\n",
      "0 -> 1 -> 2 -> 3 -> 4 -> 5 -> 6 -> 7 -> 8\n",
      "True\n"
     ]
    }
   ],
   "source": [
    "# Тест функции has_cycle\n",
    "list3 = LinkedList()\n",
    "print(has_cycle(list3.head))\n",
    "for i in range(9):\n",
    "    list3.append_back(i)\n",
    "    print(has_cycle(list3.head))\n",
    "list3.print_list()\n",
    "# делаем зацикливание списка:\n",
    "new_node = Node(10)\n",
    "new_node.next = list3.head.next.next\n",
    "list3.add_element(new_node)\n",
    "print(has_cycle(list3.head))"
   ]
  },
  {
   "cell_type": "markdown",
   "id": "6d02d792-af76-415b-8b3c-e7dbc29bef2a",
   "metadata": {},
   "source": [
    "## Разворот односвязного списка"
   ]
  },
  {
   "cell_type": "code",
   "execution_count": 56,
   "id": "dce747d2-4862-4497-aa79-0d33d940329d",
   "metadata": {},
   "outputs": [],
   "source": [
    "def reverse_linked_list(linked_list):\n",
    "    # на входе - список, на выходе - заголовок развернутого списка\n",
    "    prev = None\n",
    "    current = linked_list.head\n",
    "    while current is not None:\n",
    "        next = current.next\n",
    "        current.next = prev\n",
    "        prev = current\n",
    "        current = next\n",
    "    linked_list.head = prev\n",
    "    return prev"
   ]
  },
  {
   "cell_type": "code",
   "execution_count": 54,
   "id": "e7472333-81ef-406d-b0f2-38dc6a357fa1",
   "metadata": {},
   "outputs": [
    {
     "name": "stdout",
     "output_type": "stream",
     "text": [
      "0 -> 1 -> 2 -> 3 -> 4 -> 5 -> 6 -> 7 -> 8\n"
     ]
    }
   ],
   "source": [
    "list2.print_list()"
   ]
  },
  {
   "cell_type": "code",
   "execution_count": 58,
   "id": "11ce75b6-7ef6-4fae-a9f5-d14736fa8dfe",
   "metadata": {},
   "outputs": [
    {
     "name": "stdout",
     "output_type": "stream",
     "text": [
      "0 -> 1 -> 2 -> 3 -> 4 -> 5 -> 6 -> 7 -> 8\n",
      "<__main__.Node object at 0x00000220F58E0800>\n",
      "8 -> 7 -> 6 -> 5 -> 4 -> 3 -> 2 -> 1 -> 0\n"
     ]
    }
   ],
   "source": [
    "# тест функции reverse_linked_list\n",
    "list2 = LinkedList()\n",
    "for i in range(9):\n",
    "    list2.append_back(i)\n",
    "list2.print_list()\n",
    "new_head = reverse_linked_list(list2)\n",
    "print(new_head)\n",
    "list2.print_list()"
   ]
  },
  {
   "cell_type": "markdown",
   "id": "c9bbb0f8-7a25-4a79-9640-1905057ff9a7",
   "metadata": {},
   "source": [
    "## Середина связного списка"
   ]
  },
  {
   "cell_type": "code",
   "execution_count": 62,
   "id": "65da525d-4aaa-4baa-806f-043adbeedc32",
   "metadata": {},
   "outputs": [],
   "source": [
    "def middle_node(linked_list):\n",
    "    slow = fast = linked_list.head\n",
    "    while fast is not None and fast.next is not None:\n",
    "        slow = slow.next\n",
    "        fast = fast.next.next\n",
    "    return slow"
   ]
  },
  {
   "cell_type": "code",
   "execution_count": 69,
   "id": "d1204014-d9ff-4bc4-a603-cee24dfea2cf",
   "metadata": {},
   "outputs": [
    {
     "name": "stdout",
     "output_type": "stream",
     "text": [
      "0 -> 1 -> 2 -> 3 -> 4 -> 5 -> 6 -> 7 -> 8\n",
      "<__main__.Node object at 0x00000220F4D85BE0>\n",
      "4\n",
      "None\n",
      "<__main__.Node object at 0x00000220F59269F0>\n",
      "15\n"
     ]
    }
   ],
   "source": [
    "# тест функции middle_node\n",
    "list2 = LinkedList()\n",
    "for i in range(9):\n",
    "    list2.append_back(i)\n",
    "list2.print_list()\n",
    "m_n = middle_node(list2)\n",
    "print(m_n)\n",
    "print(m_n.data)\n",
    "list2 = LinkedList()\n",
    "m_n = middle_node(list2)\n",
    "print(m_n)\n",
    "list2.append_back(15)\n",
    "m_n = middle_node(list2)\n",
    "print(m_n)\n",
    "print(m_n.data)"
   ]
  },
  {
   "cell_type": "markdown",
   "id": "d8dd8cf0-557d-4f95-9d54-b3649e516033",
   "metadata": {},
   "source": [
    "## Удаление элемента из односвязного списка"
   ]
  },
  {
   "cell_type": "code",
   "execution_count": 73,
   "id": "88827d52-3100-4953-b487-c63c60e119ab",
   "metadata": {},
   "outputs": [],
   "source": [
    "def remove_element(linked_list, val):\n",
    "    # ищем элементы со значением val и удаляем их из списка\n",
    "    # dummy - как заглушка на случай удаления head\n",
    "    # функция возвращает ссылку на заголовок списка\n",
    "    dummy = Node(-1)\n",
    "    dummy.next = linked_list.head\n",
    "    prev = dummy\n",
    "    curr = linked_list.head\n",
    "    while curr is not None:\n",
    "        if curr.data == val:\n",
    "            prev.next = curr.next\n",
    "        else:\n",
    "            prev = curr\n",
    "        curr = curr.next\n",
    "    linked_list.head = dummy.next\n",
    "    return dummy.next"
   ]
  },
  {
   "cell_type": "code",
   "execution_count": 76,
   "id": "b000c723-04d4-449a-93d6-125092356a4a",
   "metadata": {},
   "outputs": [
    {
     "name": "stdout",
     "output_type": "stream",
     "text": [
      "0 -> 1 -> 2 -> 3 -> 4 -> 5 -> 6 -> 7 -> 8\n",
      "<__main__.Node object at 0x00000220F4D85AF0>\n",
      "0 -> 1 -> 2 -> 4 -> 5 -> 6 -> 7 -> 8\n",
      "1 -> 1 -> 1 -> 1 -> 1 -> 1 -> 1 -> 1 -> 1\n",
      "None\n",
      "\n",
      "0 -> 1 -> 1 -> 1 -> 10\n",
      "<__main__.Node object at 0x00000220F4D7CCB0>\n",
      "0 -> 10\n"
     ]
    }
   ],
   "source": [
    "# тест функции remove_element\n",
    "list2 = LinkedList()\n",
    "for i in range(9):\n",
    "    list2.append_back(i)\n",
    "list2.print_list()\n",
    "k = remove_element(list2, 3)\n",
    "print(k)\n",
    "list2.print_list()\n",
    "\n",
    "list2 = LinkedList()\n",
    "for i in range(9):\n",
    "    list2.append_back(1)\n",
    "list2.print_list()\n",
    "k = remove_element(list2, 1)\n",
    "print(k)\n",
    "list2.print_list()\n",
    "\n",
    "list2 = LinkedList()\n",
    "list2.append_back(0)\n",
    "for i in range(3):\n",
    "    list2.append_back(1)\n",
    "list2.append_back(10)    \n",
    "list2.print_list()\n",
    "k = remove_element(list2, 1)\n",
    "print(k)\n",
    "list2.print_list()"
   ]
  },
  {
   "cell_type": "markdown",
   "id": "0874ac1a-de1e-49f0-83ac-24a2d88d6c68",
   "metadata": {},
   "source": [
    "## Является ли одна строка исходной для другой?"
   ]
  },
  {
   "cell_type": "code",
   "execution_count": 19,
   "id": "e110d7ae-bb7d-45d1-9a84-8159f1363d03",
   "metadata": {},
   "outputs": [],
   "source": [
    "# решение через очередь\n",
    "from collections import deque\n",
    "\n",
    "def is_subsequence(a, b):\n",
    "    q = deque()\n",
    "    for el in a:\n",
    "        q.append(el)\n",
    "    for el in b:\n",
    "        if q[0] == el:\n",
    "            q.popleft()\n",
    "    return len(q) == 0"
   ]
  },
  {
   "cell_type": "code",
   "execution_count": 20,
   "id": "583b3495-7666-4427-902f-cac28dcbc6cb",
   "metadata": {},
   "outputs": [
    {
     "data": {
      "text/plain": [
       "True"
      ]
     },
     "execution_count": 20,
     "metadata": {},
     "output_type": "execute_result"
    }
   ],
   "source": [
    "is_subsequence('abd', 'uabqd')"
   ]
  },
  {
   "cell_type": "code",
   "execution_count": 21,
   "id": "b3f47b3f-6c19-4afc-9827-cfe82ab90266",
   "metadata": {},
   "outputs": [
    {
     "data": {
      "text/plain": [
       "False"
      ]
     },
     "execution_count": 21,
     "metadata": {},
     "output_type": "execute_result"
    }
   ],
   "source": [
    "is_subsequence('abd', 'uadba')"
   ]
  },
  {
   "cell_type": "code",
   "execution_count": 23,
   "id": "913626a5-3d77-40fa-aec2-2bfba38bc045",
   "metadata": {},
   "outputs": [],
   "source": [
    "# решение через метод 2 указателей\n",
    "def is_subsequence2(a, b):\n",
    "    i = j = 0\n",
    "    while i < len(a) and j < len(b):\n",
    "        if a[i] == b[j]:\n",
    "            i += 1\n",
    "        j += 1\n",
    "    return i == len(a)"
   ]
  },
  {
   "cell_type": "code",
   "execution_count": 24,
   "id": "66b0fad7-fb0c-475f-8ad7-3d26f0b826db",
   "metadata": {},
   "outputs": [
    {
     "data": {
      "text/plain": [
       "False"
      ]
     },
     "execution_count": 24,
     "metadata": {},
     "output_type": "execute_result"
    }
   ],
   "source": [
    "is_subsequence2('abd', 'uadba')"
   ]
  },
  {
   "cell_type": "code",
   "execution_count": 25,
   "id": "13cf985c-c942-4b38-a4f0-08ef364172b1",
   "metadata": {},
   "outputs": [
    {
     "data": {
      "text/plain": [
       "True"
      ]
     },
     "execution_count": 25,
     "metadata": {},
     "output_type": "execute_result"
    }
   ],
   "source": [
    "is_subsequence2('abd', 'uabqd')"
   ]
  },
  {
   "cell_type": "markdown",
   "id": "823a5fc9-9a99-4a79-870e-83cd550d1ef6",
   "metadata": {},
   "source": [
    "## Является ли слово палиндромом?"
   ]
  },
  {
   "cell_type": "code",
   "execution_count": 30,
   "id": "acafdd97-a26f-488a-bcc3-163a6a46775d",
   "metadata": {},
   "outputs": [],
   "source": [
    "# решение с использованием стека\n",
    "from collections import deque\n",
    "\n",
    "def is_palindrome_stack(input_string):\n",
    "    st = deque()\n",
    "    for char in input_string:\n",
    "        st.append(char)\n",
    "    for char in input_string:\n",
    "        if char != st.pop():\n",
    "            return False\n",
    "    return True"
   ]
  },
  {
   "cell_type": "code",
   "execution_count": 31,
   "id": "e1d86cf1-b13c-4539-8c0d-0236f6cbfc3a",
   "metadata": {},
   "outputs": [
    {
     "data": {
      "text/plain": [
       "False"
      ]
     },
     "execution_count": 31,
     "metadata": {},
     "output_type": "execute_result"
    }
   ],
   "source": [
    "is_palindrome_stack('aabbcc')"
   ]
  },
  {
   "cell_type": "code",
   "execution_count": 32,
   "id": "01e4dace-8e24-484f-afbd-f0e22670c85e",
   "metadata": {},
   "outputs": [
    {
     "data": {
      "text/plain": [
       "True"
      ]
     },
     "execution_count": 32,
     "metadata": {},
     "output_type": "execute_result"
    }
   ],
   "source": [
    "is_palindrome_stack('aabaa')"
   ]
  },
  {
   "cell_type": "markdown",
   "id": "9648bc4d-af9c-4dbb-bff7-0bb98e06ba94",
   "metadata": {},
   "source": [
    "## Слияние 2 отсортированных односвязных списков"
   ]
  },
  {
   "cell_type": "code",
   "execution_count": 8,
   "id": "c0210a6c-40dd-4855-992e-1a778a92055f",
   "metadata": {},
   "outputs": [],
   "source": [
    "def merge_sorted_lists(list1, list2):\n",
    "    # на входе - 2 ссылки на объекты LinkedList, на выходе - ссылка на list1, который станет объединенным списком\n",
    "    curr1 = list1.head\n",
    "    curr2 = list2.head\n",
    "    if curr1 is None:\n",
    "        return list2\n",
    "    if curr2 is None:\n",
    "        return list1\n",
    "    if curr2.data < curr1.data:\n",
    "        # разбираемся, какой из заголовков минимальный, и делаем его заголовком итогового списка\n",
    "        next2 = curr2.next\n",
    "        curr2.next = curr1\n",
    "        curr1 = curr2\n",
    "        list1.head = curr2\n",
    "        curr2 = next2\n",
    "    while curr1.next is not None and curr2 is not None:\n",
    "        if curr2.data < curr1.next.data:\n",
    "            # если текущий элемент 2-го списка меньше следующего элемента 1-го списка, делаем его следующим элементом 1-го списка\n",
    "            next2 = curr2.next\n",
    "            curr2.next = curr1.next\n",
    "            curr1.next = curr2\n",
    "            curr1 = curr2\n",
    "            curr2 = next2\n",
    "        else:\n",
    "            # иначе двигаемся на шаг по 1-му списку\n",
    "            curr1 = curr1.next\n",
    "    \n",
    "    # когда мы вышли из списка, если curr2 is None, то ничего делать не надо: 1-й список является объединенным списком\n",
    "    # если curr1.next is None, то надо прицепить остатки 2-го списка к 1-му, чтобы получить объединенный список\n",
    "    if curr2 is not None:\n",
    "        curr1.next = curr2\n",
    "    return list1"
   ]
  },
  {
   "cell_type": "code",
   "execution_count": 17,
   "id": "7d883165-202c-47d1-9f49-af754c43bb71",
   "metadata": {},
   "outputs": [
    {
     "name": "stdout",
     "output_type": "stream",
     "text": [
      "3 -> 6 -> 8\n",
      "4 -> 7 -> 9 -> 11\n"
     ]
    }
   ],
   "source": [
    "# Тесты для merge_sorted_lists\n",
    "list1 = LinkedList()\n",
    "list2 = LinkedList()\n",
    "list1.append_back(3)\n",
    "list1.append_back(6)\n",
    "list1.append_back(8)\n",
    "list1.print_list()\n",
    "list2.append_back(4)\n",
    "list2.append_back(7)\n",
    "list2.append_back(9)\n",
    "list2.append_back(11)\n",
    "list2.print_list()"
   ]
  },
  {
   "cell_type": "code",
   "execution_count": 10,
   "id": "fa8750e9-1e26-4262-a3c8-2249ea2fa895",
   "metadata": {},
   "outputs": [
    {
     "name": "stdout",
     "output_type": "stream",
     "text": [
      "3 -> 4 -> 6 -> 7 -> 8 -> 9 -> 11\n"
     ]
    }
   ],
   "source": [
    "merge_sorted_lists(list1, list2).print_list()"
   ]
  },
  {
   "cell_type": "code",
   "execution_count": 11,
   "id": "d62701b2-0ad3-42d2-8a95-f363830bb1f2",
   "metadata": {},
   "outputs": [
    {
     "name": "stdout",
     "output_type": "stream",
     "text": [
      "5 -> 6 -> 8 -> 20 -> 200\n",
      "4 -> 4 -> 7 -> 9 -> 11\n"
     ]
    }
   ],
   "source": [
    "list1 = LinkedList()\n",
    "list2 = LinkedList()\n",
    "list1.append_back(5)\n",
    "list1.append_back(6)\n",
    "list1.append_back(8)\n",
    "list1.append_back(20)\n",
    "list1.append_back(200)\n",
    "list1.print_list()\n",
    "list2.append_back(4)\n",
    "list2.append_back(4)\n",
    "list2.append_back(7)\n",
    "list2.append_back(9)\n",
    "list2.append_back(11)\n",
    "list2.print_list()"
   ]
  },
  {
   "cell_type": "code",
   "execution_count": 12,
   "id": "2d30cdb2-8d07-48d8-9a20-c31c3fd201a6",
   "metadata": {},
   "outputs": [
    {
     "name": "stdout",
     "output_type": "stream",
     "text": [
      "4 -> 4 -> 5 -> 6 -> 7 -> 8 -> 9 -> 11 -> 20 -> 200\n"
     ]
    }
   ],
   "source": [
    "merge_sorted_lists(list1, list2).print_list()"
   ]
  },
  {
   "cell_type": "code",
   "execution_count": null,
   "id": "9e0c5af9-b2a1-404b-ad2d-f224c1af3172",
   "metadata": {},
   "outputs": [],
   "source": []
  }
 ],
 "metadata": {
  "kernelspec": {
   "display_name": "Python 3 (ipykernel)",
   "language": "python",
   "name": "python3"
  },
  "language_info": {
   "codemirror_mode": {
    "name": "ipython",
    "version": 3
   },
   "file_extension": ".py",
   "mimetype": "text/x-python",
   "name": "python",
   "nbconvert_exporter": "python",
   "pygments_lexer": "ipython3",
   "version": "3.12.4"
  }
 },
 "nbformat": 4,
 "nbformat_minor": 5
}
